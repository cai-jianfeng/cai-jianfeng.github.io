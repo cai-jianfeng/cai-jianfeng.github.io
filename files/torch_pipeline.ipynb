{
 "cells": [
  {
   "cell_type": "code",
   "execution_count": 4,
   "metadata": {},
   "outputs": [
    {
     "name": "stdout",
     "output_type": "stream",
     "text": [
      "tensor(0.3750, grad_fn=<MulBackward0>)\n"
     ]
    }
   ],
   "source": [
    "import torch\n",
    "from torch import optim\n",
    "from torchviz import make_dot\n",
    "'''前向计算过程'''\n",
    "x1 = torch.tensor([0.5], requires_grad=True)\n",
    "x2 = torch.tensor([0.75], requires_grad=True)\n",
    "\n",
    "v = x1 * x2\n",
    "print(v)\n",
    "# tensor(0.3750, grad_fn=<MulBackward0>)\n",
    "dot = make_dot(v, params={'x1': x1, 'x2': x2, 'v': v})\n",
    "dot.format = 'png'\n",
    "dot.render('simple_torch_DAG')"
   ]
  }
 ],
 "metadata": {
  "kernelspec": {
   "display_name": "base",
   "language": "python",
   "name": "python3"
  },
  "language_info": {
   "codemirror_mode": {
    "name": "ipython",
    "version": 3
   },
   "file_extension": ".py",
   "mimetype": "text/x-python",
   "name": "python",
   "nbconvert_exporter": "python",
   "pygments_lexer": "ipython3",
   "version": "3.8.8"
  }
 },
 "nbformat": 4,
 "nbformat_minor": 2
}
